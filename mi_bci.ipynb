{
 "cells": [
  {
   "cell_type": "code",
   "execution_count": 22,
   "metadata": {},
   "outputs": [],
   "source": [
    "import mne\n",
    "import matplotlib.pyplot as plt\n",
    "import os\n",
    "import pandas as pd\n",
    "import numpy as np\n",
    "import tqdm"
   ]
  },
  {
   "cell_type": "code",
   "execution_count": 23,
   "metadata": {},
   "outputs": [],
   "source": [
    "#get all subject list\n",
    "participants_info = pd.read_csv('participants.tsv', sep='\\t')\n",
    "participants = participants_info.participant_id.tolist()"
   ]
  },
  {
   "cell_type": "code",
   "execution_count": 24,
   "metadata": {},
   "outputs": [],
   "source": [
    "# get edf data for the each particpant\n",
    "files = []\n",
    "paths = []\n",
    "for sub in participants: \n",
    "    sub_path = sub + '/eeg/'\n",
    "    # get all edf files\n",
    "    part_files = [fn for fn in os.listdir(sub_path) if fn.endswith('set')]\n",
    "    files.append(part_files)\n",
    "    paths.append(sub_path)"
   ]
  },
  {
   "cell_type": "code",
   "execution_count": 25,
   "metadata": {},
   "outputs": [],
   "source": [
    "%%capture\n",
    "# read raw eeglab data and append to a list\n",
    "raws = []\n",
    "for i in range(len(files)):\n",
    "    temp = []\n",
    "    for file in files[i]: \n",
    "        path = participants[i] + '/eeg/'\n",
    "        raw = mne.io.read_raw_eeglab(path+file, preload=True)\n",
    "        temp.append(raw)\n",
    "    raws.append(temp)"
   ]
  },
  {
   "cell_type": "code",
   "execution_count": 26,
   "metadata": {},
   "outputs": [],
   "source": [
    "%%capture\n",
    "\n",
    "#remove power line noise\n",
    "for r in raws: \n",
    "    for raw in r: \n",
    "        raw.notch_filter(freqs=50)"
   ]
  },
  {
   "cell_type": "code",
   "execution_count": 38,
   "metadata": {},
   "outputs": [
    {
     "name": "stdout",
     "output_type": "stream",
     "text": [
      "Used Annotations descriptions: ['BASE2T0']\n",
      "Not setting metadata\n",
      "1 matching events found\n",
      "No baseline correction applied\n",
      "0 projection items activated\n",
      "Using data from preloaded Raw for 1 events and 321 original time points ...\n",
      "0 bad epochs dropped\n"
     ]
    },
    {
     "data": {
      "text/html": [
       "<table class=\"table table-hover table-striped table-sm table-responsive small\">\n",
       "    <tr>\n",
       "        <th>Number of events</th>\n",
       "        <td>1</td>\n",
       "    </tr>\n",
       "    <tr>\n",
       "        <th>Events</th>\n",
       "        \n",
       "        <td>1: 1</td>\n",
       "        \n",
       "    </tr>\n",
       "    <tr>\n",
       "        <th>Time range</th>\n",
       "        <td>0.500 – 2.500 sec</td>\n",
       "    </tr>\n",
       "    <tr>\n",
       "        <th>Baseline</th>\n",
       "        <td>off</td>\n",
       "    </tr>\n",
       "</table>"
      ],
      "text/plain": [
       "<Epochs |  1 events (all good), 0.5 - 2.5 sec, baseline off, ~251 kB, data loaded,\n",
       " '1': 1>"
      ]
     },
     "execution_count": 38,
     "metadata": {},
     "output_type": "execute_result"
    }
   ],
   "source": [
    "# test how to read in events from eeglab data files\n",
    "events, dict = mne.events_from_annotations(raws[0][6])\n",
    "epochs = mne.Epochs(raws[0][0], events, tmin=0.5, tmax=2.5, baseline=None)\n",
    "epochs.load_data()"
   ]
  },
  {
   "cell_type": "code",
   "execution_count": 75,
   "metadata": {},
   "outputs": [
    {
     "data": {
      "text/plain": [
       "array([0, 0, 1])"
      ]
     },
     "execution_count": 75,
     "metadata": {},
     "output_type": "execute_result"
    }
   ],
   "source": [
    "# check the contents of events, useful for matching 1, 2, 3 for each run to the true label\n",
    "events[0]"
   ]
  },
  {
   "cell_type": "code",
   "execution_count": 65,
   "metadata": {},
   "outputs": [],
   "source": [
    "# function to match numeric event labels to textual true labels\n",
    "def matchLabels(events, event_dict) : \n",
    "    task_labels = list(event_dict.keys())\n",
    "    labels = []\n",
    "\n",
    "    if len(task_labels) == 3: \n",
    "        label_dict = {1:task_labels[0], 2:task_labels[1], 3:task_labels[2]}\n",
    "    elif len(task_labels) == 2: \n",
    "        label_dict = {1:task_labels[0], 2:task_labels[1]}\n",
    "    else: \n",
    "        label_dict = {1:task_labels[0]}\n",
    "        \n",
    "    for e in events: \n",
    "        # numeric event label is the last element of each row\n",
    "        labels.append(label_dict[e[-1]])\n",
    "    labels = np.array(labels)\n",
    "\n",
    "    return labels"
   ]
  },
  {
   "cell_type": "code",
   "execution_count": 41,
   "metadata": {},
   "outputs": [
    {
     "data": {
      "text/plain": [
       "14"
      ]
     },
     "execution_count": 41,
     "metadata": {},
     "output_type": "execute_result"
    }
   ],
   "source": [
    "#raws = 109 x 14\n",
    "len(raws[0])"
   ]
  },
  {
   "cell_type": "code",
   "execution_count": 78,
   "metadata": {},
   "outputs": [],
   "source": [
    "raws = [raw for sublist in raws for raw in sublist]"
   ]
  },
  {
   "cell_type": "code",
   "execution_count": 80,
   "metadata": {},
   "outputs": [],
   "source": [
    "%%capture\n",
    "\n",
    "X_epochs = []\n",
    "y_true = []\n",
    "for raw in raws: \n",
    "    raw.notch_filter(freqs=50);\n",
    "    \n",
    "    events, event_dict = mne.events_from_annotations(raw)\n",
    "    epochs = mne.Epochs(raw, events, baseline=None)\n",
    "    curr_labels = matchLabels(events, event_dict)\n",
    "\n",
    "    X_epochs.append(epochs)\n",
    "    y_true.append(curr_labels)"
   ]
  },
  {
   "cell_type": "code",
   "execution_count": null,
   "metadata": {},
   "outputs": [
    {
     "name": "stderr",
     "output_type": "stream",
     "text": [
      "C:\\Users\\zihen\\AppData\\Local\\Temp\\ipykernel_22828\\416250313.py:2: VisibleDeprecationWarning: Creating an ndarray from ragged nested sequences (which is a list-or-tuple of lists-or-tuples-or ndarrays with different lengths or shapes) is deprecated. If you meant to do this, you must specify 'dtype=object' when creating the ndarray.\n",
      "  y_true = np.array(y_true).flatten()\n"
     ]
    }
   ],
   "source": [
    "X_epochs = np.array(X_epochs).flatten()\n",
    "y_true = np.array(y_true).flatten()"
   ]
  },
  {
   "cell_type": "code",
   "execution_count": null,
   "metadata": {},
   "outputs": [
    {
     "data": {
      "text/plain": [
       "(1526,)"
      ]
     },
     "execution_count": 73,
     "metadata": {},
     "output_type": "execute_result"
    }
   ],
   "source": [
    "X_epochs.shape"
   ]
  },
  {
   "cell_type": "code",
   "execution_count": null,
   "metadata": {},
   "outputs": [
    {
     "data": {
      "text/plain": [
       "(1526,)"
      ]
     },
     "execution_count": 74,
     "metadata": {},
     "output_type": "execute_result"
    }
   ],
   "source": [
    "y_true.shape"
   ]
  },
  {
   "cell_type": "code",
   "execution_count": null,
   "metadata": {},
   "outputs": [],
   "source": []
  }
 ],
 "metadata": {
  "kernelspec": {
   "display_name": "Python 3",
   "language": "python",
   "name": "python3"
  },
  "language_info": {
   "codemirror_mode": {
    "name": "ipython",
    "version": 3
   },
   "file_extension": ".py",
   "mimetype": "text/x-python",
   "name": "python",
   "nbconvert_exporter": "python",
   "pygments_lexer": "ipython3",
   "version": "3.9.2"
  },
  "orig_nbformat": 4
 },
 "nbformat": 4,
 "nbformat_minor": 2
}
