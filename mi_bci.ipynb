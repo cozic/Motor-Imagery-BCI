{
 "cells": [
  {
   "cell_type": "code",
   "execution_count": 1,
   "metadata": {},
   "outputs": [],
   "source": [
    "import mne\n",
    "import matplotlib.pyplot as plt\n",
    "import os\n",
    "import pandas as pd\n",
    "import numpy as np"
   ]
  },
  {
   "cell_type": "code",
   "execution_count": 2,
   "metadata": {},
   "outputs": [],
   "source": [
    "#get all subject list\n",
    "participants_info = pd.read_csv('participants.tsv', sep='\\t')\n",
    "participants = participants_info.participant_id.tolist()"
   ]
  },
  {
   "cell_type": "code",
   "execution_count": 3,
   "metadata": {},
   "outputs": [],
   "source": [
    "# get edf data for the each particpant\n",
    "files = []\n",
    "paths = []\n",
    "for sub in participants: \n",
    "    sub_path = sub + '/eeg/'\n",
    "    # get all edf files\n",
    "    part_files = [fn for fn in os.listdir(sub_path) if fn.endswith('set')]\n",
    "    files.append(part_files)\n",
    "    paths.append(sub_path)"
   ]
  },
  {
   "cell_type": "code",
   "execution_count": 4,
   "metadata": {},
   "outputs": [
    {
     "ename": "ValueError",
     "evalue": "Unknown mat file type, version 69, 45",
     "output_type": "error",
     "traceback": [
      "\u001b[1;31m---------------------------------------------------------------------------\u001b[0m",
      "\u001b[1;31mModuleNotFoundError\u001b[0m                       Traceback (most recent call last)",
      "File \u001b[1;32me:\\Coding Tools\\Python 3.9.2\\lib\\site-packages\\mne\\utils\\check.py:352\u001b[0m, in \u001b[0;36m_soft_import\u001b[1;34m(name, purpose, strict)\u001b[0m\n\u001b[0;32m    351\u001b[0m \u001b[39mtry\u001b[39;00m:\n\u001b[1;32m--> 352\u001b[0m     mod \u001b[39m=\u001b[39m import_module(name)\n\u001b[0;32m    353\u001b[0m     \u001b[39mreturn\u001b[39;00m mod\n",
      "File \u001b[1;32me:\\Coding Tools\\Python 3.9.2\\lib\\importlib\\__init__.py:127\u001b[0m, in \u001b[0;36mimport_module\u001b[1;34m(name, package)\u001b[0m\n\u001b[0;32m    126\u001b[0m         level \u001b[39m+\u001b[39m\u001b[39m=\u001b[39m \u001b[39m1\u001b[39m\n\u001b[1;32m--> 127\u001b[0m \u001b[39mreturn\u001b[39;00m _bootstrap\u001b[39m.\u001b[39;49m_gcd_import(name[level:], package, level)\n",
      "File \u001b[1;32m<frozen importlib._bootstrap>:1030\u001b[0m, in \u001b[0;36m_gcd_import\u001b[1;34m(name, package, level)\u001b[0m\n",
      "File \u001b[1;32m<frozen importlib._bootstrap>:1007\u001b[0m, in \u001b[0;36m_find_and_load\u001b[1;34m(name, import_)\u001b[0m\n",
      "File \u001b[1;32m<frozen importlib._bootstrap>:984\u001b[0m, in \u001b[0;36m_find_and_load_unlocked\u001b[1;34m(name, import_)\u001b[0m\n",
      "\u001b[1;31mModuleNotFoundError\u001b[0m: No module named 'pymatreader'",
      "\nDuring handling of the above exception, another exception occurred:\n",
      "\u001b[1;31mRuntimeError\u001b[0m                              Traceback (most recent call last)",
      "File \u001b[1;32me:\\Coding Tools\\Python 3.9.2\\lib\\site-packages\\mne\\io\\eeglab\\_eeglab.py:76\u001b[0m, in \u001b[0;36m_readmat\u001b[1;34m(fname, uint16_codec)\u001b[0m\n\u001b[0;32m     75\u001b[0m \u001b[39mtry\u001b[39;00m:\n\u001b[1;32m---> 76\u001b[0m     read_mat \u001b[39m=\u001b[39m _import_pymatreader_funcs(\u001b[39m'\u001b[39;49m\u001b[39mEEGLAB I/O\u001b[39;49m\u001b[39m'\u001b[39;49m)\n\u001b[0;32m     77\u001b[0m \u001b[39mexcept\u001b[39;00m \u001b[39mRuntimeError\u001b[39;00m:  \u001b[39m# pymatreader not installed\u001b[39;00m\n",
      "File \u001b[1;32me:\\Coding Tools\\Python 3.9.2\\lib\\site-packages\\mne\\utils\\check.py:164\u001b[0m, in \u001b[0;36m_import_pymatreader_funcs\u001b[1;34m(purpose)\u001b[0m\n\u001b[0;32m    163\u001b[0m \u001b[39mdef\u001b[39;00m \u001b[39m_import_pymatreader_funcs\u001b[39m(purpose):\n\u001b[1;32m--> 164\u001b[0m     pymatreader \u001b[39m=\u001b[39m _soft_import(\u001b[39m'\u001b[39;49m\u001b[39mpymatreader\u001b[39;49m\u001b[39m'\u001b[39;49m, purpose)\n\u001b[0;32m    165\u001b[0m     \u001b[39mreturn\u001b[39;00m pymatreader\u001b[39m.\u001b[39mread_mat\n",
      "File \u001b[1;32me:\\Coding Tools\\Python 3.9.2\\lib\\site-packages\\mne\\utils\\check.py:356\u001b[0m, in \u001b[0;36m_soft_import\u001b[1;34m(name, purpose, strict)\u001b[0m\n\u001b[0;32m    355\u001b[0m \u001b[39mif\u001b[39;00m strict:\n\u001b[1;32m--> 356\u001b[0m     \u001b[39mraise\u001b[39;00m \u001b[39mRuntimeError\u001b[39;00m(\n\u001b[0;32m    357\u001b[0m         \u001b[39mf\u001b[39m\u001b[39m'\u001b[39m\u001b[39mFor \u001b[39m\u001b[39m{\u001b[39;00mpurpose\u001b[39m}\u001b[39;00m\u001b[39m to work, the \u001b[39m\u001b[39m{\u001b[39;00mname\u001b[39m}\u001b[39;00m\u001b[39m module is needed, \u001b[39m\u001b[39m'\u001b[39m \u001b[39m+\u001b[39m\n\u001b[0;32m    358\u001b[0m         \u001b[39m'\u001b[39m\u001b[39mbut it could not be imported.\u001b[39m\u001b[39m\\n\u001b[39;00m\u001b[39m'\u001b[39m \u001b[39m+\u001b[39m\n\u001b[0;32m    359\u001b[0m         \u001b[39m'\u001b[39m\u001b[39m\\n\u001b[39;00m\u001b[39m'\u001b[39m\u001b[39m.\u001b[39mjoin((indent(\u001b[39m'\u001b[39m\u001b[39muse the following installation method \u001b[39m\u001b[39m'\u001b[39m\n\u001b[0;32m    360\u001b[0m                           \u001b[39m'\u001b[39m\u001b[39mappropriate for your environment:\u001b[39m\u001b[39m'\u001b[39m),\n\u001b[0;32m    361\u001b[0m                    indent(\u001b[39mf\u001b[39m\u001b[39m\"\u001b[39m\u001b[39m'\u001b[39m\u001b[39mpip install \u001b[39m\u001b[39m{\u001b[39;00mpip_name\u001b[39m}\u001b[39;00m\u001b[39m'\u001b[39m\u001b[39m\"\u001b[39m),\n\u001b[0;32m    362\u001b[0m                    indent(\u001b[39mf\u001b[39m\u001b[39m\"\u001b[39m\u001b[39m'\u001b[39m\u001b[39mconda install -c conda-forge \u001b[39m\u001b[39m{\u001b[39;00mpip_name\u001b[39m}\u001b[39;00m\u001b[39m'\u001b[39m\u001b[39m\"\u001b[39m)\n\u001b[0;32m    363\u001b[0m                    )))\n\u001b[0;32m    364\u001b[0m \u001b[39melse\u001b[39;00m:\n",
      "\u001b[1;31mRuntimeError\u001b[0m: For EEGLAB I/O to work, the pymatreader module is needed, but it could not be imported.\n              use the following installation method appropriate for your environment:\n              'pip install pymatreader'\n              'conda install -c conda-forge pymatreader'",
      "\nDuring handling of the above exception, another exception occurred:\n",
      "\u001b[1;31mValueError\u001b[0m                                Traceback (most recent call last)",
      "\u001b[1;32me:\\UCSD\\COGS\\COGS189\\Motor-Imagery-BCI\\mi_bci.ipynb Cell 4\u001b[0m in \u001b[0;36m<cell line: 2>\u001b[1;34m()\u001b[0m\n\u001b[0;32m      <a href='vscode-notebook-cell:/e%3A/UCSD/COGS/COGS189/Motor-Imagery-BCI/mi_bci.ipynb#W3sZmlsZQ%3D%3D?line=3'>4</a>\u001b[0m \u001b[39mfor\u001b[39;00m file \u001b[39min\u001b[39;00m files[i]: \n\u001b[0;32m      <a href='vscode-notebook-cell:/e%3A/UCSD/COGS/COGS189/Motor-Imagery-BCI/mi_bci.ipynb#W3sZmlsZQ%3D%3D?line=4'>5</a>\u001b[0m     path \u001b[39m=\u001b[39m participants[i] \u001b[39m+\u001b[39m \u001b[39m'\u001b[39m\u001b[39m/eeg/\u001b[39m\u001b[39m'\u001b[39m\n\u001b[1;32m----> <a href='vscode-notebook-cell:/e%3A/UCSD/COGS/COGS189/Motor-Imagery-BCI/mi_bci.ipynb#W3sZmlsZQ%3D%3D?line=5'>6</a>\u001b[0m     raw \u001b[39m=\u001b[39m mne\u001b[39m.\u001b[39;49mio\u001b[39m.\u001b[39;49mread_raw_eeglab(path\u001b[39m+\u001b[39;49mfile, preload\u001b[39m=\u001b[39;49m\u001b[39mTrue\u001b[39;49;00m)\n\u001b[0;32m      <a href='vscode-notebook-cell:/e%3A/UCSD/COGS/COGS189/Motor-Imagery-BCI/mi_bci.ipynb#W3sZmlsZQ%3D%3D?line=6'>7</a>\u001b[0m     temp\u001b[39m.\u001b[39mappend(raw)\n\u001b[0;32m      <a href='vscode-notebook-cell:/e%3A/UCSD/COGS/COGS189/Motor-Imagery-BCI/mi_bci.ipynb#W3sZmlsZQ%3D%3D?line=7'>8</a>\u001b[0m raws\u001b[39m.\u001b[39mappend(temp)\n",
      "File \u001b[1;32me:\\Coding Tools\\Python 3.9.2\\lib\\site-packages\\mne\\io\\eeglab\\eeglab.py:283\u001b[0m, in \u001b[0;36mread_raw_eeglab\u001b[1;34m(input_fname, eog, preload, uint16_codec, montage_units, verbose)\u001b[0m\n\u001b[0;32m    249\u001b[0m \u001b[39m@fill_doc\u001b[39m\n\u001b[0;32m    250\u001b[0m \u001b[39mdef\u001b[39;00m \u001b[39mread_raw_eeglab\u001b[39m(input_fname, eog\u001b[39m=\u001b[39m(), preload\u001b[39m=\u001b[39m\u001b[39mFalse\u001b[39;00m,\n\u001b[0;32m    251\u001b[0m                     uint16_codec\u001b[39m=\u001b[39m\u001b[39mNone\u001b[39;00m, montage_units\u001b[39m=\u001b[39m\u001b[39m'\u001b[39m\u001b[39mmm\u001b[39m\u001b[39m'\u001b[39m, verbose\u001b[39m=\u001b[39m\u001b[39mNone\u001b[39;00m):\n\u001b[0;32m    252\u001b[0m     \u001b[39mr\u001b[39m\u001b[39m\"\"\"Read an EEGLAB .set file.\u001b[39;00m\n\u001b[0;32m    253\u001b[0m \n\u001b[0;32m    254\u001b[0m \u001b[39m    Parameters\u001b[39;00m\n\u001b[1;32m   (...)\u001b[0m\n\u001b[0;32m    281\u001b[0m \u001b[39m    .. versionadded:: 0.11.0\u001b[39;00m\n\u001b[0;32m    282\u001b[0m \u001b[39m    \"\"\"\u001b[39;00m\n\u001b[1;32m--> 283\u001b[0m     \u001b[39mreturn\u001b[39;00m RawEEGLAB(input_fname\u001b[39m=\u001b[39;49minput_fname, preload\u001b[39m=\u001b[39;49mpreload,\n\u001b[0;32m    284\u001b[0m                      eog\u001b[39m=\u001b[39;49meog, uint16_codec\u001b[39m=\u001b[39;49muint16_codec,\n\u001b[0;32m    285\u001b[0m                      montage_units\u001b[39m=\u001b[39;49mmontage_units, verbose\u001b[39m=\u001b[39;49mverbose)\n",
      "File \u001b[1;32m<decorator-gen-295>:12\u001b[0m, in \u001b[0;36m__init__\u001b[1;34m(self, input_fname, eog, preload, uint16_codec, montage_units, verbose)\u001b[0m\n",
      "File \u001b[1;32me:\\Coding Tools\\Python 3.9.2\\lib\\site-packages\\mne\\io\\eeglab\\eeglab.py:377\u001b[0m, in \u001b[0;36mRawEEGLAB.__init__\u001b[1;34m(self, input_fname, eog, preload, uint16_codec, montage_units, verbose)\u001b[0m\n\u001b[0;32m    372\u001b[0m \u001b[39m@verbose\u001b[39m\n\u001b[0;32m    373\u001b[0m \u001b[39mdef\u001b[39;00m \u001b[39m__init__\u001b[39m(\u001b[39mself\u001b[39m, input_fname, eog\u001b[39m=\u001b[39m(),\n\u001b[0;32m    374\u001b[0m              preload\u001b[39m=\u001b[39m\u001b[39mFalse\u001b[39;00m, \u001b[39m*\u001b[39m, uint16_codec\u001b[39m=\u001b[39m\u001b[39mNone\u001b[39;00m, montage_units\u001b[39m=\u001b[39m\u001b[39m'\u001b[39m\u001b[39mmm\u001b[39m\u001b[39m'\u001b[39m,\n\u001b[0;32m    375\u001b[0m              verbose\u001b[39m=\u001b[39m\u001b[39mNone\u001b[39;00m):  \u001b[39m# noqa: D102\u001b[39;00m\n\u001b[0;32m    376\u001b[0m     input_fname \u001b[39m=\u001b[39m _check_fname(input_fname, \u001b[39m'\u001b[39m\u001b[39mread\u001b[39m\u001b[39m'\u001b[39m, \u001b[39mTrue\u001b[39;00m, \u001b[39m'\u001b[39m\u001b[39minput_fname\u001b[39m\u001b[39m'\u001b[39m)\n\u001b[1;32m--> 377\u001b[0m     eeg \u001b[39m=\u001b[39m _check_load_mat(input_fname, uint16_codec)\n\u001b[0;32m    378\u001b[0m     \u001b[39mif\u001b[39;00m eeg\u001b[39m.\u001b[39mtrials \u001b[39m!=\u001b[39m \u001b[39m1\u001b[39m:\n\u001b[0;32m    379\u001b[0m         \u001b[39mraise\u001b[39;00m \u001b[39mTypeError\u001b[39;00m(\u001b[39m'\u001b[39m\u001b[39mThe number of trials is \u001b[39m\u001b[39m%d\u001b[39;00m\u001b[39m. It must be 1 for raw\u001b[39m\u001b[39m'\u001b[39m\n\u001b[0;32m    380\u001b[0m                         \u001b[39m'\u001b[39m\u001b[39m files. Please use `mne.io.read_epochs_eeglab` if\u001b[39m\u001b[39m'\u001b[39m\n\u001b[0;32m    381\u001b[0m                         \u001b[39m'\u001b[39m\u001b[39m the .set file contains epochs.\u001b[39m\u001b[39m'\u001b[39m \u001b[39m%\u001b[39m eeg\u001b[39m.\u001b[39mtrials)\n",
      "File \u001b[1;32me:\\Coding Tools\\Python 3.9.2\\lib\\site-packages\\mne\\io\\eeglab\\eeglab.py:63\u001b[0m, in \u001b[0;36m_check_load_mat\u001b[1;34m(fname, uint16_codec)\u001b[0m\n\u001b[0;32m     61\u001b[0m \u001b[39mdef\u001b[39;00m \u001b[39m_check_load_mat\u001b[39m(fname, uint16_codec):\n\u001b[0;32m     62\u001b[0m     \u001b[39m\"\"\"Check if the mat struct contains 'EEG'.\"\"\"\u001b[39;00m\n\u001b[1;32m---> 63\u001b[0m     eeg \u001b[39m=\u001b[39m _readmat(fname, uint16_codec\u001b[39m=\u001b[39;49muint16_codec)\n\u001b[0;32m     64\u001b[0m     \u001b[39mif\u001b[39;00m \u001b[39m'\u001b[39m\u001b[39mALLEEG\u001b[39m\u001b[39m'\u001b[39m \u001b[39min\u001b[39;00m eeg:\n\u001b[0;32m     65\u001b[0m         \u001b[39mraise\u001b[39;00m \u001b[39mNotImplementedError\u001b[39;00m(\n\u001b[0;32m     66\u001b[0m             \u001b[39m'\u001b[39m\u001b[39mLoading an ALLEEG array is not supported. Please contact\u001b[39m\u001b[39m'\u001b[39m\n\u001b[0;32m     67\u001b[0m             \u001b[39m'\u001b[39m\u001b[39mmne-python developers for more information.\u001b[39m\u001b[39m'\u001b[39m)\n",
      "File \u001b[1;32me:\\Coding Tools\\Python 3.9.2\\lib\\site-packages\\mne\\io\\eeglab\\_eeglab.py:79\u001b[0m, in \u001b[0;36m_readmat\u001b[1;34m(fname, uint16_codec)\u001b[0m\n\u001b[0;32m     77\u001b[0m \u001b[39mexcept\u001b[39;00m \u001b[39mRuntimeError\u001b[39;00m:  \u001b[39m# pymatreader not installed\u001b[39;00m\n\u001b[0;32m     78\u001b[0m     \u001b[39mfrom\u001b[39;00m \u001b[39mscipy\u001b[39;00m\u001b[39m.\u001b[39;00m\u001b[39mio\u001b[39;00m \u001b[39mimport\u001b[39;00m loadmat\n\u001b[1;32m---> 79\u001b[0m     eeg \u001b[39m=\u001b[39m loadmat(fname, squeeze_me\u001b[39m=\u001b[39;49m\u001b[39mTrue\u001b[39;49;00m, mat_dtype\u001b[39m=\u001b[39;49m\u001b[39mFalse\u001b[39;49;00m)\n\u001b[0;32m     80\u001b[0m     \u001b[39mreturn\u001b[39;00m _check_for_scipy_mat_struct(eeg)\n\u001b[0;32m     81\u001b[0m \u001b[39melse\u001b[39;00m:\n",
      "File \u001b[1;32me:\\Coding Tools\\Python 3.9.2\\lib\\site-packages\\scipy\\io\\matlab\\_mio.py:225\u001b[0m, in \u001b[0;36mloadmat\u001b[1;34m(file_name, mdict, appendmat, **kwargs)\u001b[0m\n\u001b[0;32m    223\u001b[0m variable_names \u001b[39m=\u001b[39m kwargs\u001b[39m.\u001b[39mpop(\u001b[39m'\u001b[39m\u001b[39mvariable_names\u001b[39m\u001b[39m'\u001b[39m, \u001b[39mNone\u001b[39;00m)\n\u001b[0;32m    224\u001b[0m \u001b[39mwith\u001b[39;00m _open_file_context(file_name, appendmat) \u001b[39mas\u001b[39;00m f:\n\u001b[1;32m--> 225\u001b[0m     MR, _ \u001b[39m=\u001b[39m mat_reader_factory(f, \u001b[39m*\u001b[39m\u001b[39m*\u001b[39mkwargs)\n\u001b[0;32m    226\u001b[0m     matfile_dict \u001b[39m=\u001b[39m MR\u001b[39m.\u001b[39mget_variables(variable_names)\n\u001b[0;32m    228\u001b[0m \u001b[39mif\u001b[39;00m mdict \u001b[39mis\u001b[39;00m \u001b[39mnot\u001b[39;00m \u001b[39mNone\u001b[39;00m:\n",
      "File \u001b[1;32me:\\Coding Tools\\Python 3.9.2\\lib\\site-packages\\scipy\\io\\matlab\\_mio.py:74\u001b[0m, in \u001b[0;36mmat_reader_factory\u001b[1;34m(file_name, appendmat, **kwargs)\u001b[0m\n\u001b[0;32m     54\u001b[0m \u001b[39m\"\"\"\u001b[39;00m\n\u001b[0;32m     55\u001b[0m \u001b[39mCreate reader for matlab .mat format files.\u001b[39;00m\n\u001b[0;32m     56\u001b[0m \n\u001b[1;32m   (...)\u001b[0m\n\u001b[0;32m     71\u001b[0m \n\u001b[0;32m     72\u001b[0m \u001b[39m\"\"\"\u001b[39;00m\n\u001b[0;32m     73\u001b[0m byte_stream, file_opened \u001b[39m=\u001b[39m _open_file(file_name, appendmat)\n\u001b[1;32m---> 74\u001b[0m mjv, mnv \u001b[39m=\u001b[39m _get_matfile_version(byte_stream)\n\u001b[0;32m     75\u001b[0m \u001b[39mif\u001b[39;00m mjv \u001b[39m==\u001b[39m \u001b[39m0\u001b[39m:\n\u001b[0;32m     76\u001b[0m     \u001b[39mreturn\u001b[39;00m MatFile4Reader(byte_stream, \u001b[39m*\u001b[39m\u001b[39m*\u001b[39mkwargs), file_opened\n",
      "File \u001b[1;32me:\\Coding Tools\\Python 3.9.2\\lib\\site-packages\\scipy\\io\\matlab\\_miobase.py:251\u001b[0m, in \u001b[0;36m_get_matfile_version\u001b[1;34m(fileobj)\u001b[0m\n\u001b[0;32m    249\u001b[0m \u001b[39mif\u001b[39;00m maj_val \u001b[39min\u001b[39;00m (\u001b[39m1\u001b[39m, \u001b[39m2\u001b[39m):\n\u001b[0;32m    250\u001b[0m     \u001b[39mreturn\u001b[39;00m ret\n\u001b[1;32m--> 251\u001b[0m \u001b[39mraise\u001b[39;00m \u001b[39mValueError\u001b[39;00m(\u001b[39m'\u001b[39m\u001b[39mUnknown mat file type, version \u001b[39m\u001b[39m%s\u001b[39;00m\u001b[39m, \u001b[39m\u001b[39m%s\u001b[39;00m\u001b[39m'\u001b[39m \u001b[39m%\u001b[39m ret)\n",
      "\u001b[1;31mValueError\u001b[0m: Unknown mat file type, version 69, 45"
     ]
    }
   ],
   "source": [
    "%%capture\n",
    "\n",
    "raws = []\n",
    "for i in range(len(files)):\n",
    "    temp = []\n",
    "    for file in files[i]: \n",
    "        path = participants[i] + '/eeg/'\n",
    "        raw = mne.io.read_raw_eeglab(path+file, preload=True)\n",
    "        temp.append(raw)\n",
    "    raws.append(temp)"
   ]
  },
  {
   "cell_type": "code",
   "execution_count": null,
   "metadata": {},
   "outputs": [],
   "source": [
    "%%capture\n",
    "\n",
    "#remove power line noise\n",
    "for r in raws: \n",
    "    for raw in r: \n",
    "        raw.notch_filter(freqs=50)"
   ]
  },
  {
   "cell_type": "code",
   "execution_count": null,
   "metadata": {},
   "outputs": [
    {
     "name": "stdout",
     "output_type": "stream",
     "text": [
      "Used Annotations descriptions: ['TASK4T0', 'TASK4T1', 'TASK4T2']\n",
      "Not setting metadata\n",
      "30 matching events found\n",
      "No baseline correction applied\n",
      "0 projection items activated\n",
      "Using data from preloaded Raw for 30 events and 321 original time points ...\n",
      "0 bad epochs dropped\n"
     ]
    },
    {
     "data": {
      "text/html": [
       "<table class=\"table table-hover table-striped table-sm table-responsive small\">\n",
       "    <tr>\n",
       "        <th>Number of events</th>\n",
       "        <td>30</td>\n",
       "    </tr>\n",
       "    <tr>\n",
       "        <th>Events</th>\n",
       "        \n",
       "        <td>1: 15<br/>2: 7<br/>3: 8</td>\n",
       "        \n",
       "    </tr>\n",
       "    <tr>\n",
       "        <th>Time range</th>\n",
       "        <td>0.500 – 2.500 sec</td>\n",
       "    </tr>\n",
       "    <tr>\n",
       "        <th>Baseline</th>\n",
       "        <td>off</td>\n",
       "    </tr>\n",
       "</table>"
      ],
      "text/plain": [
       "<Epochs |  30 events (all good), 0.5 - 2.5 sec, baseline off, ~4.8 MB, data loaded,\n",
       " '1': 15\n",
       " '2': 7\n",
       " '3': 8>"
      ]
     },
     "execution_count": 46,
     "metadata": {},
     "output_type": "execute_result"
    }
   ],
   "source": [
    "epochs1 = []\n",
    "events, dict = mne.events_from_annotations(raws[0][0])\n",
    "epochs = mne.Epochs(raws[0][0], events, tmin=0.5, tmax=2.5, baseline=None)\n",
    "epochs.load_data()"
   ]
  },
  {
   "cell_type": "code",
   "execution_count": null,
   "metadata": {},
   "outputs": [
    {
     "name": "stdout",
     "output_type": "stream",
     "text": [
      "Used Annotations descriptions: ['TASK1T0', 'TASK1T1', 'TASK1T2']\n",
      "Not setting metadata\n",
      "30 matching events found\n",
      "No baseline correction applied\n",
      "0 projection items activated\n",
      "Using data from preloaded Raw for 30 events and 321 original time points ...\n",
      "0 bad epochs dropped\n"
     ]
    },
    {
     "data": {
      "text/html": [
       "<table class=\"table table-hover table-striped table-sm table-responsive small\">\n",
       "    <tr>\n",
       "        <th>Number of events</th>\n",
       "        <td>30</td>\n",
       "    </tr>\n",
       "    <tr>\n",
       "        <th>Events</th>\n",
       "        \n",
       "        <td>1: 15<br/>2: 8<br/>3: 7</td>\n",
       "        \n",
       "    </tr>\n",
       "    <tr>\n",
       "        <th>Time range</th>\n",
       "        <td>0.500 – 2.500 sec</td>\n",
       "    </tr>\n",
       "    <tr>\n",
       "        <th>Baseline</th>\n",
       "        <td>off</td>\n",
       "    </tr>\n",
       "</table>"
      ],
      "text/plain": [
       "<Epochs |  30 events (all good), 0.5 - 2.5 sec, baseline off, ~4.8 MB, data loaded,\n",
       " '1': 15\n",
       " '2': 8\n",
       " '3': 7>"
      ]
     },
     "execution_count": 57,
     "metadata": {},
     "output_type": "execute_result"
    }
   ],
   "source": [
    "events, dict = mne.events_from_annotations(raws[0][7])\n",
    "epochs = mne.Epochs(raws[0][7], events, tmin=0.5, tmax=2.5, baseline=None)\n",
    "epochs.load_data()"
   ]
  },
  {
   "cell_type": "code",
   "execution_count": null,
   "metadata": {},
   "outputs": [
    {
     "data": {
      "text/plain": [
       "array([0, 0, 1])"
      ]
     },
     "execution_count": 60,
     "metadata": {},
     "output_type": "execute_result"
    }
   ],
   "source": [
    "events[0]"
   ]
  },
  {
   "cell_type": "code",
   "execution_count": null,
   "metadata": {},
   "outputs": [],
   "source": [
    "labels = []\n",
    "label_dict = {1:'TASK4T0', 2:'TASK4T1', 3:'TASK4T2'}\n",
    "for e in events: \n",
    "    labels.append(label_dict[e[-1]])"
   ]
  },
  {
   "cell_type": "code",
   "execution_count": null,
   "metadata": {},
   "outputs": [
    {
     "data": {
      "text/plain": [
       "['TASK4T0',\n",
       " 'TASK4T2',\n",
       " 'TASK4T0',\n",
       " 'TASK4T1',\n",
       " 'TASK4T0',\n",
       " 'TASK4T1',\n",
       " 'TASK4T0',\n",
       " 'TASK4T2',\n",
       " 'TASK4T0',\n",
       " 'TASK4T2',\n",
       " 'TASK4T0',\n",
       " 'TASK4T1',\n",
       " 'TASK4T0',\n",
       " 'TASK4T1',\n",
       " 'TASK4T0',\n",
       " 'TASK4T2',\n",
       " 'TASK4T0',\n",
       " 'TASK4T1',\n",
       " 'TASK4T0',\n",
       " 'TASK4T2',\n",
       " 'TASK4T0',\n",
       " 'TASK4T2',\n",
       " 'TASK4T0',\n",
       " 'TASK4T1',\n",
       " 'TASK4T0',\n",
       " 'TASK4T1',\n",
       " 'TASK4T0',\n",
       " 'TASK4T2',\n",
       " 'TASK4T0',\n",
       " 'TASK4T1']"
      ]
     },
     "execution_count": 62,
     "metadata": {},
     "output_type": "execute_result"
    }
   ],
   "source": [
    "labels"
   ]
  },
  {
   "cell_type": "code",
   "execution_count": null,
   "metadata": {},
   "outputs": [],
   "source": [
    "r = raws[0]"
   ]
  },
  {
   "cell_type": "code",
   "execution_count": null,
   "metadata": {},
   "outputs": [],
   "source": []
  }
 ],
 "metadata": {
  "kernelspec": {
   "display_name": "Python 3",
   "language": "python",
   "name": "python3"
  },
  "language_info": {
   "codemirror_mode": {
    "name": "ipython",
    "version": 3
   },
   "file_extension": ".py",
   "mimetype": "text/x-python",
   "name": "python",
   "nbconvert_exporter": "python",
   "pygments_lexer": "ipython3",
   "version": "3.9.2"
  },
  "orig_nbformat": 4
 },
 "nbformat": 4,
 "nbformat_minor": 2
}
